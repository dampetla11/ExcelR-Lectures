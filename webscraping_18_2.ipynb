{
  "nbformat": 4,
  "nbformat_minor": 0,
  "metadata": {
    "colab": {
      "provenance": []
    },
    "kernelspec": {
      "name": "python3",
      "display_name": "Python 3"
    },
    "language_info": {
      "name": "python"
    }
  },
  "cells": [
    {
      "cell_type": "code",
      "source": [
        "pip install requests beautifulsoup4"
      ],
      "metadata": {
        "colab": {
          "base_uri": "https://localhost:8080/"
        },
        "id": "QzMPujOIxCXG",
        "outputId": "9930e92f-1f3c-4e5c-d7f3-dfa8a3d50fa3"
      },
      "execution_count": 1,
      "outputs": [
        {
          "output_type": "stream",
          "name": "stdout",
          "text": [
            "Requirement already satisfied: requests in /usr/local/lib/python3.11/dist-packages (2.32.3)\n",
            "Requirement already satisfied: beautifulsoup4 in /usr/local/lib/python3.11/dist-packages (4.13.3)\n",
            "Requirement already satisfied: charset-normalizer<4,>=2 in /usr/local/lib/python3.11/dist-packages (from requests) (3.4.1)\n",
            "Requirement already satisfied: idna<4,>=2.5 in /usr/local/lib/python3.11/dist-packages (from requests) (3.10)\n",
            "Requirement already satisfied: urllib3<3,>=1.21.1 in /usr/local/lib/python3.11/dist-packages (from requests) (2.3.0)\n",
            "Requirement already satisfied: certifi>=2017.4.17 in /usr/local/lib/python3.11/dist-packages (from requests) (2025.1.31)\n",
            "Requirement already satisfied: soupsieve>1.2 in /usr/local/lib/python3.11/dist-packages (from beautifulsoup4) (2.6)\n",
            "Requirement already satisfied: typing-extensions>=4.0.0 in /usr/local/lib/python3.11/dist-packages (from beautifulsoup4) (4.12.2)\n"
          ]
        }
      ]
    },
    {
      "cell_type": "code",
      "source": [
        "import requests\n",
        "from bs4 import BeautifulSoup\n",
        "\n",
        "url = \"http://quotes.toscrape.com/\"\n",
        "\n",
        "response = requests.get(url)"
      ],
      "metadata": {
        "id": "hcCPbo_2xNwh"
      },
      "execution_count": 2,
      "outputs": []
    },
    {
      "cell_type": "code",
      "source": [
        "if response.status_code == 200:\n",
        "\n",
        "    soup = BeautifulSoup(response.text, 'html.parser')\n",
        "\n",
        "    quotes = soup.find_all(\"div\", class_=\"quote\")\n",
        "    for i, quote in enumerate(quotes[:5]):\n",
        "        text = quote.find(\"span\", class_=\"text\").text\n",
        "        author = quote.find(\"small\", class_=\"author\").text\n",
        "        tags = [tag.text for tag in quote.find_all(\"a\", class_=\"tag\")]\n",
        "        print(f\"{i+1}. \\\"{text}\\\" - {author}\")\n",
        "        print(f\"   Tags: {', '.join(tags)}\\n\")\n",
        "else:\n",
        "    print(f\"Failed to retrieve the webpage. Status Code: {response.status_code}\")"
      ],
      "metadata": {
        "colab": {
          "base_uri": "https://localhost:8080/"
        },
        "id": "00aEltKfzDYs",
        "outputId": "3845e88a-d255-4028-f809-8ce5a913ade7"
      },
      "execution_count": 3,
      "outputs": [
        {
          "output_type": "stream",
          "name": "stdout",
          "text": [
            "1. \"“The world as we have created it is a process of our thinking. It cannot be changed without changing our thinking.”\" - Albert Einstein\n",
            "   Tags: change, deep-thoughts, thinking, world\n",
            "\n",
            "2. \"“It is our choices, Harry, that show what we truly are, far more than our abilities.”\" - J.K. Rowling\n",
            "   Tags: abilities, choices\n",
            "\n",
            "3. \"“There are only two ways to live your life. One is as though nothing is a miracle. The other is as though everything is a miracle.”\" - Albert Einstein\n",
            "   Tags: inspirational, life, live, miracle, miracles\n",
            "\n",
            "4. \"“The person, be it gentleman or lady, who has not pleasure in a good novel, must be intolerably stupid.”\" - Jane Austen\n",
            "   Tags: aliteracy, books, classic, humor\n",
            "\n",
            "5. \"“Imperfection is beauty, madness is genius and it's better to be absolutely ridiculous than absolutely boring.”\" - Marilyn Monroe\n",
            "   Tags: be-yourself, inspirational\n",
            "\n"
          ]
        }
      ]
    },
    {
      "cell_type": "code",
      "source": [
        "import requests\n",
        "from bs4 import BeautifulSoup\n",
        "city = \"india/hyderabad\"\n",
        "url = f\"https://www.timeanddate.com/weather/{city}\"\n",
        "response = requests.get(url)\n",
        "soup = BeautifulSoup(response.text, 'html.parser')\n",
        "temp = soup.find(\"div\", class_=\"h2\").text.strip() if soup.find(\"div\", class_=\"h2\") else \"N/A\"\n",
        "desc = soup.find(\"p\").text.strip() if soup.find(\"p\") else \"N/A\"\n",
        "print(f\"Current Weather in Hyderabad: {temp} | {desc}\")"
      ],
      "metadata": {
        "colab": {
          "base_uri": "https://localhost:8080/"
        },
        "id": "5FuGkaMIzEOk",
        "outputId": "bd8804c7-48c9-4b0b-ea33-68b7daf3c846"
      },
      "execution_count": 4,
      "outputs": [
        {
          "output_type": "stream",
          "name": "stdout",
          "text": [
            "Current Weather in Hyderabad: 90 °F | Clear.\n"
          ]
        }
      ]
    },
    {
      "cell_type": "code",
      "source": [
        "import requests\n",
        "from bs4 import BeautifulSoup\n",
        "search_url = \"https://www.amazon.in/s?k=iphone&crid=PQVCJSNISAH4&sprefix=iphone%2Caps%2C233&ref=nb_sb_noss_2s\"\n",
        "headers = {\n",
        "    \"User-Agent\": \"Mozilla/5.0 (Windows NT 10.0; Win64; x64) AppleWebKit/537.36 (KHTML, like Gecko) Chrome/91.0.4472.124 Safari/537.36\"\n",
        "}\n",
        "response = requests.get(search_url, headers=headers)\n",
        "soup = BeautifulSoup(response.text, \"html.parser\")\n",
        "product = soup.select_one(\"span.a-size-medium\")\n",
        "price = soup.select_one(\"span.a-price-whole\")\n",
        "if product and price:\n",
        "    print(f\"Product: {product.text.strip()}\")\n",
        "    print(f\"Price: Rs.{price.text.strip()}\")\n",
        "else:\n",
        "    print(\"Could not find product details.\")"
      ],
      "metadata": {
        "colab": {
          "base_uri": "https://localhost:8080/"
        },
        "id": "yLQ3Uh2ezERP",
        "outputId": "09d0568a-f695-4480-d110-f6ef11335095"
      },
      "execution_count": 6,
      "outputs": [
        {
          "output_type": "stream",
          "name": "stdout",
          "text": [
            "Could not find product details.\n"
          ]
        }
      ]
    },
    {
      "cell_type": "code",
      "source": [
        "import requests\n",
        "from bs4 import BeautifulSoup\n",
        "url = \"https://en.wikipedia.org/wiki/List_of_countries_and_dependencies_by_population\"\n",
        "\n",
        "\n",
        "\n",
        "\n",
        "# Send GET request\n",
        "\n",
        "response = requests.get(url,headers=headers)\n",
        "\n",
        "soup = BeautifulSoup(response.text, \"html.parser\")\n",
        "\n",
        "\n",
        "\n",
        "# Find the table\n",
        "\n",
        "table = soup.find(\"table\", class_=\"wikitable\")\n",
        "\n",
        "\n",
        "\n",
        "# Extract the first 5 countries and their population\n",
        "\n",
        "for row in table.find_all(\"tr\")[1:6]:  # Skip the header row\n",
        "\n",
        "    columns = row.find_all(\"td\")\n",
        "\n",
        "    country = columns[1].text.strip()\n",
        "\n",
        "    population = columns[2].text.strip()\n",
        "\n",
        "\n",
        "\n",
        "    print(f\"{country}: {population}\")"
      ],
      "metadata": {
        "id": "s3fdh92bzETG"
      },
      "execution_count": null,
      "outputs": []
    },
    {
      "cell_type": "code",
      "source": [
        "from IPython.display import display, HTML\n",
        "\n",
        "display(HTML(\"\"\"\n",
        "\n",
        "   <p style=\"font-family:verdana\">This is a sample table</p>\n",
        "\n",
        "  <table>\n",
        "\n",
        "  <tr>\n",
        "\n",
        "    <th>Company</th>\n",
        "\n",
        "    <th>Contact</th>\n",
        "\n",
        "    <th>Country</th>\n",
        "\n",
        "  </tr>\n",
        "\n",
        "  <tr>\n",
        "\n",
        "    <td>Alfreds Futterkiste</td>\n",
        "\n",
        "    <td>Maria Anders</td>\n",
        "\n",
        "    <td>Germany</td>\n",
        "\n",
        "  </tr>\n",
        "\n",
        "  <tr>\n",
        "\n",
        "    <td>Centro comercial Moctezuma</td>\n",
        "\n",
        "    <td>Francisco Chang</td>\n",
        "\n",
        "    <td>Mexico</td>\n",
        "\n",
        "  </tr>\n",
        "\n",
        "</table>\n",
        "\n",
        "\"\"\"))"
      ],
      "metadata": {
        "colab": {
          "base_uri": "https://localhost:8080/",
          "height": 112
        },
        "id": "haTHy-dRzEWU",
        "outputId": "776c07fc-9a28-4bc5-96a9-e60bab413030"
      },
      "execution_count": 7,
      "outputs": [
        {
          "output_type": "display_data",
          "data": {
            "text/plain": [
              "<IPython.core.display.HTML object>"
            ],
            "text/html": [
              "\n",
              "\n",
              "   <p style=\"font-family:verdana\">This is a sample table</p>\n",
              "\n",
              "  <table>\n",
              "\n",
              "  <tr>\n",
              "\n",
              "    <th>Company</th>\n",
              "\n",
              "    <th>Contact</th>\n",
              "\n",
              "    <th>Country</th>\n",
              "\n",
              "  </tr>\n",
              "\n",
              "  <tr>\n",
              "\n",
              "    <td>Alfreds Futterkiste</td>\n",
              "\n",
              "    <td>Maria Anders</td>\n",
              "\n",
              "    <td>Germany</td>\n",
              "\n",
              "  </tr>\n",
              "\n",
              "  <tr>\n",
              "\n",
              "    <td>Centro comercial Moctezuma</td>\n",
              "\n",
              "    <td>Francisco Chang</td>\n",
              "\n",
              "    <td>Mexico</td>\n",
              "\n",
              "  </tr>\n",
              "\n",
              "</table>\n",
              "\n"
            ]
          },
          "metadata": {}
        }
      ]
    },
    {
      "cell_type": "code",
      "source": [],
      "metadata": {
        "id": "LDkqTikC8wEO"
      },
      "execution_count": null,
      "outputs": []
    }
  ]
}