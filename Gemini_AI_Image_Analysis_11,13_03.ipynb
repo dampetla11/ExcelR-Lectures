{
  "nbformat": 4,
  "nbformat_minor": 0,
  "metadata": {
    "colab": {
      "provenance": []
    },
    "kernelspec": {
      "name": "python3",
      "display_name": "Python 3"
    },
    "language_info": {
      "name": "python"
    }
  },
  "cells": [
    {
      "cell_type": "code",
      "execution_count": 1,
      "metadata": {
        "id": "d_bqTEgx_HnU"
      },
      "outputs": [],
      "source": [
        "import google.generativeai as genai\n",
        "from google.colab import userdata\n",
        "GOOGLE_API_KEY=userdata.get('GOOGLE_API_KEY')\n",
        "genai.configure(api_key=GOOGLE_API_KEY)"
      ]
    },
    {
      "cell_type": "code",
      "source": [
        "import pathlib\n",
        "import textwrap\n",
        "from IPython.display import display, Markdown\n",
        "def to_markdown(text):\n",
        "  text = text.replace('•', '  *')\n",
        "  return Markdown(textwrap.indent(text, '> ', predicate=lambda _: True))"
      ],
      "metadata": {
        "id": "SiOs4jKtBxX_"
      },
      "execution_count": 2,
      "outputs": []
    },
    {
      "cell_type": "code",
      "source": [
        "import PIL.Image\n",
        "img = PIL.Image.open('image1.jpeg')\n",
        "import PIL.Image\n",
        "img = PIL.Image.open('image1.jpeg')\n",
        "img\n",
        "model = genai.GenerativeModel('gemini-1.5-flash')\n",
        "response = model.generate_content([\"Write a short, engaging blog post based on this picture. \\nIt should include a description of the meal in the photo and talk about my journey meal prepping.\", img],\n",
        "stream=True)\n",
        "response.resolve()"
      ],
      "metadata": {
        "id": "QMSAytrGB8Ph"
      },
      "execution_count": 4,
      "outputs": []
    },
    {
      "cell_type": "code",
      "source": [
        "import PIL.Image\n",
        "img = PIL.Image.open('/content/image1.jpeg')\n",
        "img\n",
        "model = genai.GenerativeModel('gemini-1.5-flash')\n",
        "response = model.generate_content([\"Write a short, engaging blog post based on this picture.  It should include a description of the meal in the photo and talk about my journey meal prepping.\", img],\n",
        "stream=True)\n",
        "response.resolve()"
      ],
      "metadata": {
        "id": "_3_TYxKFB_bu"
      },
      "execution_count": 5,
      "outputs": []
    },
    {
      "cell_type": "code",
      "source": [
        "to_markdown(response.text)"
      ],
      "metadata": {
        "colab": {
          "base_uri": "https://localhost:8080/",
          "height": 371
        },
        "id": "6BkEuHIfCzL-",
        "outputId": "6fa1a2c4-d7f5-40d7-b854-7b5628461059"
      },
      "execution_count": 6,
      "outputs": [
        {
          "output_type": "execute_result",
          "data": {
            "text/plain": [
              "<IPython.core.display.Markdown object>"
            ],
            "text/markdown": "> ## My Meal Prep Journey: From Chaos to Colorful Containers!\n> \n> Let's be honest, meal prepping used to be my nemesis.  The thought of spending a Sunday afternoon chopping veggies and cooking enough food to feed a small army was enough to send me running for a pizza.  But something had to change.  My energy levels were plummeting, and grabbing fast food every day was wreaking havoc on my wallet (and my waistline).\n> \n> So, I decided to take the plunge. And the results?  Absolutely transformative!\n> \n> This photo is a perfect snapshot of my current routine.  Two glass containers, packed with deliciousness and ready to conquer the week.  Each one contains a perfectly portioned serving of teriyaki chicken, fluffy white rice, vibrant carrots and broccoli. It's a balanced, flavorful meal that's satisfying and healthy.  \n> \n> My journey wasn't without its hiccups.  I started small, picking one or two meals to prep each week. I experimented with different recipes, finding ones that I genuinely enjoyed.  Some were hits, some were... well, let's just say I learned a lot about which veggies hold up well in the fridge!\n> \n> The key for me was finding recipes that were quick, easy, and didn't require a ton of specialized ingredients. This isn't gourmet cuisine, folks, it’s about convenience and nourishment! Now, my Sundays are still busy, but the feeling of being prepared for the week ahead? Priceless.\n> \n> So, if you’re on the fence about meal prepping, I urge you to give it a try.  Start small, be patient with yourself, and remember, it's about making healthy eating easier, not harder.  Your future self (and your bank account) will thank you for it!\n"
          },
          "metadata": {},
          "execution_count": 6
        }
      ]
    },
    {
      "cell_type": "code",
      "source": [
        "response = model.generate_content([\"Generate an accurate caption for this image.\", img])\n",
        "print(response.text)"
      ],
      "metadata": {
        "colab": {
          "base_uri": "https://localhost:8080/",
          "height": 332
        },
        "id": "kMwNuSFRC2xN",
        "outputId": "3ff00625-f292-484b-eef2-e338822bb8da"
      },
      "execution_count": 7,
      "outputs": [
        {
          "output_type": "stream",
          "name": "stdout",
          "text": [
            "Here's a caption for the image:\n",
            "\n",
            "**Option 1 (Concise):**\n",
            "\n",
            "> Healthy and delicious meal prep!  Chicken and broccoli with rice.\n",
            "\n",
            "**Option 2 (More descriptive):**\n",
            "\n",
            "> Two perfectly portioned containers of teriyaki chicken and broccoli over rice.  Meal prepping made easy and tasty!\n",
            "\n",
            "**Option 3 (Focus on ease):**\n",
            "\n",
            "> Easy weeknight dinners start with a little meal prep!  These chicken and veggie bowls are ready to go.\n",
            "\n",
            "\n",
            "Choose the option that best suits your needs and target audience.\n",
            "\n"
          ]
        }
      ]
    },
    {
      "cell_type": "code",
      "source": [
        "from PIL import Image\n",
        "image_path = \"logo1.jpeg\"\n",
        "image = Image.open(image_path)\n",
        "response = model.generate_content([\"Identify the brand or company associated with this logo\", image])\n",
        "print(response.text)"
      ],
      "metadata": {
        "id": "iSBenm7oDCwA",
        "colab": {
          "base_uri": "https://localhost:8080/",
          "height": 52
        },
        "outputId": "a9f147f5-c24e-4373-8456-01f7e711fa7d"
      },
      "execution_count": 11,
      "outputs": [
        {
          "output_type": "stream",
          "name": "stdout",
          "text": [
            "That's the logo for **Amazon**.\n",
            "\n"
          ]
        }
      ]
    },
    {
      "cell_type": "code",
      "source": [
        "image_path = \"product.jpeg\"\n",
        "image = Image.open(image_path)\n",
        "response = model.generate_content([\"What product is shown in this image?\", image])\n",
        "print(response.text)"
      ],
      "metadata": {
        "colab": {
          "base_uri": "https://localhost:8080/",
          "height": 34
        },
        "id": "tF6iPm2xsmIQ",
        "outputId": "0cc955b2-56e0-4ae1-e3f8-0d4bf95c77af"
      },
      "execution_count": 12,
      "outputs": [
        {
          "output_type": "stream",
          "name": "stdout",
          "text": [
            "That's a pair of black over-ear headphones.\n"
          ]
        }
      ]
    },
    {
      "cell_type": "code",
      "source": [
        "response = model.generate_content([\"Suggest similar products to this one\", image])\n",
        "print(response.text)"
      ],
      "metadata": {
        "colab": {
          "base_uri": "https://localhost:8080/",
          "height": 488
        },
        "id": "DiGHubWuty_g",
        "outputId": "4fe53f99-db0f-47cd-e5ef-061f3a497ff5"
      },
      "execution_count": 13,
      "outputs": [
        {
          "output_type": "stream",
          "name": "stdout",
          "text": [
            "Here are some similar products to the black over-ear headphones shown in the image.  To give the best recommendations, I need more information about what aspects of the headphones are most important to you.  However, I can suggest some general categories and examples:\n",
            "\n",
            "**Considering similar features (over-ear, closed-back, likely noise-canceling):**\n",
            "\n",
            "* **Sony WH-1000XM5:**  Known for excellent noise cancellation, comfortable fit, and high-quality sound.  A premium option.\n",
            "* **Bose QuietComfort 45:** Another top contender in noise-canceling headphones, prioritizing comfort and ease of use.\n",
            "* **Apple AirPods Max:**  Apple's premium over-ear headphones, with good noise cancellation and integration with Apple devices.  Expensive.\n",
            "* **Bowers & Wilkins PX7 S2:**  Focuses on high-fidelity audio reproduction.\n",
            "\n",
            "**Considering similar aesthetics (black, sleek design):**\n",
            "\n",
            "Many brands offer black over-ear headphones with a similar sleek aesthetic.  Look for headphones from brands like:\n",
            "\n",
            "* **Sennheiser:** (e.g., Momentum 4 Wireless) Known for their balanced sound signature.\n",
            "* **Audio-Technica:**  (e.g., ATH-M50xBT2) Often a good value for their sound quality.\n",
            "* **JBL:**  (various models) Offers a wide range of styles and price points, often with strong bass.\n",
            "\n",
            "**To help me narrow down the suggestions, please tell me:**\n",
            "\n",
            "* **Your budget:**  Are you looking for budget-friendly, mid-range, or premium headphones?\n",
            "* **Your priorities:**  What's most important to you? Noise cancellation, sound quality (bass-heavy, balanced, bright), comfort, portability, features (like a microphone or app control)?\n",
            "* **Your preferred music genres:**  Different headphones might suit different music styles better.\n",
            "\n",
            "\n",
            "Once I have this information, I can provide more specific and helpful recommendations.\n",
            "\n"
          ]
        }
      ]
    },
    {
      "cell_type": "code",
      "source": [
        "image_path = \"invoice.jpg\"\n",
        "image = Image.open(image_path)\n",
        "response = model.generate_content([\"Extract the price for thsi image\", image])\n",
        "print(response.text)"
      ],
      "metadata": {
        "colab": {
          "base_uri": "https://localhost:8080/",
          "height": 54
        },
        "id": "YA6zn62wt_iH",
        "outputId": "12f28f90-2f40-4696-96ba-10568391098e"
      },
      "execution_count": 14,
      "outputs": [
        {
          "output_type": "stream",
          "name": "stdout",
          "text": [
            "The price for each item is $10.00.  The sub-total is $100.00, and the grand total, including 10% tax, is also $100.00.\n"
          ]
        }
      ]
    },
    {
      "cell_type": "code",
      "source": [
        "response = model.generate_content([\"Extract the price, currency, and any discounts from this image\", image])\n",
        "print(response.text)"
      ],
      "metadata": {
        "colab": {
          "base_uri": "https://localhost:8080/",
          "height": 124
        },
        "id": "NV62qCIhuANK",
        "outputId": "53591eee-a0a9-4db3-e2bc-7c32739b647c"
      },
      "execution_count": 15,
      "outputs": [
        {
          "output_type": "stream",
          "name": "stdout",
          "text": [
            "Here's the extracted information from the provided invoice image:\n",
            "\n",
            "* **Price:** $10.00 (per item)\n",
            "* **Currency:** USD ($)\n",
            "* **Discounts:** No discounts are explicitly shown on the invoice.  There is a 10% tax applied, but that's not a discount.  The Grand Total is the same as the Subtotal, implying no discounts were applied.\n"
          ]
        }
      ]
    },
    {
      "cell_type": "code",
      "source": [
        "image_path = \"bicycle.jpg\"\n",
        "image = Image.open(image_path)\n",
        "response = model.generate_content([\"Identify all objects present in this image\", image])\n",
        "print(response.text)"
      ],
      "metadata": {
        "colab": {
          "base_uri": "https://localhost:8080/",
          "height": 263
        },
        "id": "T3PjuPmxuAPN",
        "outputId": "3c79da95-7e37-4001-c5c5-012eff566606"
      },
      "execution_count": 16,
      "outputs": [
        {
          "output_type": "stream",
          "name": "stdout",
          "text": [
            "Here are the objects present in the image:\n",
            "\n",
            "* **Two bicycles:** One is predominantly black and yellow, the other is white.\n",
            "* **Two men:**  Riding the bicycles. One is wearing a blue shirt and camouflage shorts, the other a gray long-sleeved shirt and jeans, and a red cap.\n",
            "* **A man (in the background):** Sitting inside a building.\n",
            "* **A motorcycle:** Parked on the street to the left.\n",
            "* **A building:** With a roll-up door, windows, and a bit of signage visible.\n",
            "* **Chairs:** Two plastic chairs are visible inside the building.\n",
            "* **Street:** The bicycles are riding on a wet street.\n",
            "* **Grass:** Some grass is visible along the side of the street.\n",
            "\n",
            "\n",
            "\n"
          ]
        }
      ]
    },
    {
      "cell_type": "code",
      "source": [],
      "metadata": {
        "id": "kEKekzjhuARX"
      },
      "execution_count": null,
      "outputs": []
    },
    {
      "cell_type": "code",
      "source": [],
      "metadata": {
        "id": "paFcw_1cxpLI"
      },
      "execution_count": null,
      "outputs": []
    },
    {
      "cell_type": "code",
      "source": [],
      "metadata": {
        "id": "VEbNbUoNxpRY"
      },
      "execution_count": null,
      "outputs": []
    },
    {
      "cell_type": "code",
      "source": [],
      "metadata": {
        "id": "kWL7nK4nxpTf"
      },
      "execution_count": null,
      "outputs": []
    },
    {
      "cell_type": "code",
      "source": [],
      "metadata": {
        "id": "1bvQkSxXxpVy"
      },
      "execution_count": null,
      "outputs": []
    },
    {
      "cell_type": "code",
      "source": [],
      "metadata": {
        "id": "AYAUqLX5uAUn"
      },
      "execution_count": null,
      "outputs": []
    }
  ]
}